{
 "cells": [
  {
   "cell_type": "code",
   "execution_count": null,
   "metadata": {},
   "outputs": [],
   "source": [
    "import os\n",
    "import librosa\n",
    "import numpy as np\n",
    "from essentia.standard import MonoWriter\n",
    "import IPython\n",
    "\n",
    "from pylab import plot, show, figure, imshow\n",
    "%matplotlib inline\n",
    "import matplotlib.pyplot as plt\n",
    "plt.rcParams['figure.figsize'] = (15, 6) # set plot sizes to something larger than default"
   ]
  },
  {
   "cell_type": "code",
   "execution_count": null,
   "metadata": {},
   "outputs": [],
   "source": [
    "def invlogamplitude(S):\n",
    "    \"\"\"librosa.logamplitude is actually 10*log10, so invert that.\"\"\"\n",
    "    return 10.0**(S/10.0)\n",
    "\n",
    "def transform_and_restore(filename, n_mels=128, n_fft=512, hop_length=256, hop_stride=1, hop_fill=False, plot_mels=False, sr=16000):\n",
    "    y, sr = librosa.load(filename, sr)\n",
    "\n",
    "    # Reconstruct from Mel bands\n",
    "    mels = librosa.feature.melspectrogram(y, sr=sr, n_mels=n_mels, n_fft=n_fft, hop_length=int(hop_length*hop_stride))\n",
    "        \n",
    "    if plot_mels:\n",
    "        imshow(librosa.core.amplitude_to_db(mels), aspect='auto', origin='lower', interpolation='none')\n",
    "        plt.title(\"Mel log-spectrogram\")\n",
    "        show()  \n",
    "\n",
    "    mels_fill = []\n",
    "    if hop_fill:\n",
    "        print(\"Mel-spec shape:\", mels.shape)\n",
    "        for frame in mels.T:\n",
    "            mels_fill += [frame]*hop_stride\n",
    "        mels = np.array(mels_fill).T\n",
    "        print(\"Filled Mel-spec shape:\", mels.shape)\n",
    "\n",
    "    # Reconstruct with white noise\n",
    "    excitation = np.random.randn(y.shape[0])\n",
    "    #E = librosa.stft(excitation, n_fft=n_fft, hop_length=int(hop_length*hop_stride))\n",
    "    E = librosa.stft(excitation, n_fft=n_fft, hop_length=hop_length)\n",
    "    mels = mels[:,:E.shape[1]]      \n",
    "        \n",
    "    # Empirical scaling of channels to get ~flat amplitude mapping\n",
    "    mel_basis = librosa.filters.mel(sr, n_fft, n_mels=n_mels)\n",
    "    bin_scaling = 1.0/np.maximum(0.0005, np.sum(np.dot(mel_basis.T, mel_basis), axis=0))\n",
    "    recon_stft = bin_scaling[:, np.newaxis] * np.dot(mel_basis.T, mels)\n",
    "    print (recon_stft.shape)\n",
    "        \n",
    "    # Impose reconstructed magnitude on white noise STFT\n",
    "    print(\"Shape E\", E.shape)\n",
    "    print(\"Shape Mel\", mels.shape)\n",
    "    recon = librosa.istft(E/np.abs(E)*np.sqrt(recon_stft), win_length=n_fft, hop_length=hop_length, window='hann')\n",
    "\n",
    "    return recon, sr"
   ]
  },
  {
   "cell_type": "code",
   "execution_count": null,
   "metadata": {},
   "outputs": [],
   "source": [
    "# Folder with all the original audio files\n",
    "folder = \"/path/tracks/\""
   ]
  },
  {
   "cell_type": "markdown",
   "metadata": {},
   "source": [
    "# Preview one original file"
   ]
  },
  {
   "cell_type": "code",
   "execution_count": null,
   "metadata": {},
   "outputs": [],
   "source": [
    "filename = folder+'TRABEAE12903CDD8EE.mp3'\n",
    "orig, sr = librosa.load(filename, sr=16000)\n",
    "IPython.display.Audio(orig, rate=sr)"
   ]
  },
  {
   "cell_type": "markdown",
   "metadata": {},
   "source": [
    "# Sonify mel-spectrogram of that example"
   ]
  },
  {
   "cell_type": "code",
   "execution_count": null,
   "metadata": {},
   "outputs": [],
   "source": [
    "recon, sr = transform_and_restore(filename, sr=16000, n_fft=512, n_mels=48, hop_length=256, hop_stride=10, hop_fill=True, plot_mels=True)\n",
    "IPython.display.Audio(recon, rate=sr)"
   ]
  },
  {
   "cell_type": "markdown",
   "metadata": {},
   "source": [
    "# Generate all the audio examples"
   ]
  },
  {
   "cell_type": "code",
   "execution_count": null,
   "metadata": {},
   "outputs": [],
   "source": [
    "mels = [128, 96, 48, 32, 24, 16, 8]\n",
    "temp = [1, 2, 3, 4, 5, 10]\n",
    "srs = [12, 16]\n",
    "\n",
    "files = []\n",
    "for r, d, f in os.walk(folder):\n",
    "    for file in f:\n",
    "        if '.mp3' in file:\n",
    "            for n_mel in mels:\n",
    "                for tmp in temp:\n",
    "                    for sr in srs:\n",
    "                        recon, o_sr = transform_and_restore(os.path.join(folder, file), sr=sr*1000, n_mels=n_mel, hop_stride=tmp, hop_fill=True)\n",
    "                        new_file_directory = os.path.join(folder, file.replace('.mp3',''))\n",
    "                        if not os.path.exists(new_file_directory):\n",
    "                            os.makedirs(new_file_directory)\n",
    "                        new_filename = '{}/{}k-mel{}-x{}'.format(new_file_directory, sr, n_mel , tmp)\n",
    "                        librosa.output.write_wav(new_filename+'.wav', recon, o_sr)\n",
    "                        # Convert wav to flac\n",
    "                        ! ffmpeg -i {new_filename}.wav -vn -ar 16000 -sample_fmt s16 -ss 0 -t 30 {new_filename}.flac\n",
    "                        os.remove(new_filename+'.wav')"
   ]
  },
  {
   "cell_type": "code",
   "execution_count": null,
   "metadata": {},
   "outputs": [],
   "source": []
  }
 ],
 "metadata": {
  "kernelspec": {
   "display_name": "Python 3",
   "language": "python",
   "name": "python3"
  },
  "language_info": {
   "codemirror_mode": {
    "name": "ipython",
    "version": 3
   },
   "file_extension": ".py",
   "mimetype": "text/x-python",
   "name": "python",
   "nbconvert_exporter": "python",
   "pygments_lexer": "ipython3",
   "version": "3.6.8"
  }
 },
 "nbformat": 4,
 "nbformat_minor": 2
}
